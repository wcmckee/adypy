{
 "metadata": {
  "name": "",
  "signature": "sha256:4c013ee3468bcb3ac758a7b3ec3992c63b48892c221a4152647a5625223689fa"
 },
 "nbformat": 3,
 "nbformat_minor": 0,
 "worksheets": [
  {
   "cells": [
    {
     "cell_type": "code",
     "collapsed": false,
     "input": [
      "#!/usr/local/bin/python"
     ],
     "language": "python",
     "metadata": {},
     "outputs": []
    },
    {
     "cell_type": "markdown",
     "metadata": {},
     "source": [
      "rgdsnatch: Reddit script to get posts and data from RedditGetsDrawn and post to artcontroldrawsyou"
     ]
    },
    {
     "cell_type": "code",
     "collapsed": false,
     "input": [
      "import os\n",
      "import random\n",
      "import requests\n",
      "import re\n",
      "import json\n",
      "import praw"
     ],
     "language": "python",
     "metadata": {},
     "outputs": [],
     "prompt_number": 55
    },
    {
     "cell_type": "code",
     "collapsed": false,
     "input": [
      "os.chdir('/home/wcmckee/rgd')"
     ],
     "language": "python",
     "metadata": {},
     "outputs": [],
     "prompt_number": 64
    },
    {
     "cell_type": "code",
     "collapsed": false,
     "input": [
      "r = praw.Reddit(user_agent='rgdsnatch')"
     ],
     "language": "python",
     "metadata": {},
     "outputs": [],
     "prompt_number": 56
    },
    {
     "cell_type": "code",
     "collapsed": false,
     "input": [
      "r.login('artcontrol', 'test123')"
     ],
     "language": "python",
     "metadata": {},
     "outputs": [],
     "prompt_number": 57
    },
    {
     "cell_type": "code",
     "collapsed": false,
     "input": [
      "rd = r.get_subreddit('redditgetsdrawn')"
     ],
     "language": "python",
     "metadata": {},
     "outputs": [],
     "prompt_number": 58
    },
    {
     "cell_type": "code",
     "collapsed": false,
     "input": [
      "rdnewz = rd.get_new()"
     ],
     "language": "python",
     "metadata": {},
     "outputs": [],
     "prompt_number": 59
    },
    {
     "cell_type": "code",
     "collapsed": false,
     "input": [
      "rdnew = []"
     ],
     "language": "python",
     "metadata": {},
     "outputs": [],
     "prompt_number": 60
    },
    {
     "cell_type": "code",
     "collapsed": false,
     "input": [
      "for uz in rdnewz:\n",
      "    #print uz\n",
      "    rdnew.append(uz)"
     ],
     "language": "python",
     "metadata": {},
     "outputs": [
      {
       "output_type": "stream",
       "stream": "stdout",
       "text": [
        "1 :: Please draw this picture of my sis and i from back in the day :)\n",
        "2 :: Could you draw my Dad wearing a Giants Jersey, while riding a lion, with...\n",
        "1 :: I'd love to get drawn looking more like Jesse with some Pokemon!\n",
        "1 :: Favorite photo of my sister and me at my other sisters wedding! Would an...\n",
        "2 :: Peruvian lurker here, draw me in psychedelics ways &lt;3\n",
        "1 :: I'd really like to have someone draw me. This me last Halloween as Carri...\n",
        "1 :: Me in Cape Town. I thought you guys would be able to create a lasting me...\n",
        "2 :: Female firefighter here! And I love Captain America comics! Anyway we ca...\n",
        "1 :: Draw me and my prom date? :D\n",
        "1 :: One of my best friends got to see the daughter she put up for adoption y...\n",
        "4 :: Can anyone draw this photo I took of my cat?\n",
        "3 :: I gave my new Arc Reactor for a spin this weekend in Japan, and my frien...\n",
        "4 :: Long time lurker wanted to see what can you do with my boyfriend!\n",
        "5 :: I went skydiving yesterday and couldn't help but submit this. Draw my ex...\n",
        "0 :: Can someone draw my girlfriend? She's excited to see what she may get!\n",
        "6 :: A picture of my old man walking the Scottish Highlands where he lives, I...\n",
        "4 :: I love this picture of my son swinging! Any interest in drawing it?\n",
        "4 :: me and my pup\n",
        "17 :: It's time for RGD Mod Favorites (June 1 - June 7)! See inside for details!\n",
        "4 :: Anyone want to draw my awesome dog Riley?\n",
        "6 :: Me as Peter from the Darjeeling Limited for a Wes Anderson party\n",
        "0 :: Draw something cute and silly of my GF and I?\n",
        "1 :: A friend of mine just took this picture of me, could someone please draw...\n",
        "10 :: Long time admirer of the artists here, trying to get back into it mysel...\n",
        "10 :: Never had a portrait done, but I've always wanted one!\n"
       ]
      }
     ],
     "prompt_number": 61
    },
    {
     "cell_type": "code",
     "collapsed": false,
     "input": [
      "rd.get_top"
     ],
     "language": "python",
     "metadata": {},
     "outputs": [
      {
       "metadata": {},
       "output_type": "pyout",
       "prompt_number": 63,
       "text": [
        "<bound method Subreddit._sorted of Subreddit(display_name='redditgetsdrawn')>"
       ]
      }
     ],
     "prompt_number": 63
    },
    {
     "cell_type": "code",
     "collapsed": false,
     "input": [
      "linkdict = {}"
     ],
     "language": "python",
     "metadata": {},
     "outputs": [],
     "prompt_number": 112
    },
    {
     "cell_type": "code",
     "collapsed": false,
     "input": [
      "for newa in rdnew:\n",
      "    #rint newa.url\n",
      "    #print newa.author\n",
      "    linkdict.update({str(newa.author): str(newa.url)})"
     ],
     "language": "python",
     "metadata": {},
     "outputs": [],
     "prompt_number": 113
    },
    {
     "cell_type": "code",
     "collapsed": false,
     "input": [
      "import json"
     ],
     "language": "python",
     "metadata": {},
     "outputs": [],
     "prompt_number": 81
    },
    {
     "cell_type": "code",
     "collapsed": false,
     "input": [
      "newzjson = json.dumps(linkdict)"
     ],
     "language": "python",
     "metadata": {},
     "outputs": [],
     "prompt_number": 91
    },
    {
     "cell_type": "code",
     "collapsed": false,
     "input": [
      "newzjson"
     ],
     "language": "python",
     "metadata": {},
     "outputs": [
      {
       "metadata": {},
       "output_type": "pyout",
       "prompt_number": 92,
       "text": [
        "'{\"Angelcstac\": \"http://i.imgur.com/Z8JrWOk.jpg\", \"peruvianlurker\": \"http://i.imgur.com/8Vc7V7G.jpg\", \"TheMonz\": \"http://imgur.com/a/dw8K0\", \"links\": \"artcontrol\", \"Letinydancer21\": \"http://imgur.com/tXSYTGc\", \"climbing_up_walls\": \"http://imgur.com/9KNMq1m\", \"Peirce77\": \"http://i.imgur.com/dEva8EA.jpg\", \"Because_Vodka\": \"http://i.imgur.com/br7pEXk.jpg\", \"CoveredInKSauce\": \"http://imgur.com/mN6GHO7\", \"powder1\": \"http://imgur.com/hlttrQb\", \"DAS_UBER_JOE\": \"http://imgur.com/fgLQjBg\", \"AmandaDD\": \"http://imgur.com/PrndxJn\", \"aycelan\": \"http://i.imgur.com/ToYtG82.jpg?1\", \"user\": \"url\", \"heidn83\": \"http://imgur.com/bwMTLoD\", \"CaptainHawkIron\": \"http://imgur.com/K1dMNc1\", \"JustaaGuy\": \"http://i.imgur.com/8sQpzm4.jpg\", \"WNxBigBird\": \"http://imgur.com/PoUvdSq\", \"thermal_vampire\": \"http://i.imgur.com/x1R6ZmV.jpg\", \"ItWillBeMine\": \"http://www.reddit.com/r/redditgetsdrawn/comments/27ncvy/its_time_for_rgd_mod_favorites_june_1_june_7_see/\", \"Caulker_33\": \"http://i.imgur.com/In08Mj0.jpg\", \"Lifeiz\": \"http://imgur.com/a/ouWwu\", \"novonn\": \"http://i.imgur.com/ysJL94B.jpg\", \"cerberusorthus\": \"http://i.imgur.com/gz8e4iq.jpg\", \"rwense\": \"http://imgur.com/miaAs5l\", \"creteen\": \"http://imgur.com/sr4onEd\", \"dr_henry_jones\": \"http://i.imgur.com/61CVFup.jpg\"}'"
       ]
      }
     ],
     "prompt_number": 92
    },
    {
     "cell_type": "code",
     "collapsed": false,
     "input": [],
     "language": "python",
     "metadata": {},
     "outputs": []
    },
    {
     "cell_type": "code",
     "collapsed": false,
     "input": [
      "newposts = open('userurl.json', 'a')\n",
      "newposts.write(newzjson)\n",
      "print 'file userurl.json updated'\n",
      "newposts.close()"
     ],
     "language": "python",
     "metadata": {},
     "outputs": [
      {
       "output_type": "stream",
       "stream": "stdout",
       "text": [
        "file userurl.json updated\n"
       ]
      }
     ],
     "prompt_number": 108
    },
    {
     "cell_type": "code",
     "collapsed": false,
     "input": [],
     "language": "python",
     "metadata": {},
     "outputs": []
    }
   ],
   "metadata": {}
  }
 ]
}